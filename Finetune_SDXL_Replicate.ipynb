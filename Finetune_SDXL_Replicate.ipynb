{
  "nbformat": 4,
  "nbformat_minor": 0,
  "metadata": {
    "colab": {
      "provenance": []
    },
    "kernelspec": {
      "name": "python3",
      "display_name": "Python 3"
    },
    "language_info": {
      "name": "python"
    }
  },
  "cells": [
    {
      "cell_type": "markdown",
      "source": [
        "# How to use\n",
        "\n",
        "To run and modify the notebook, in the top left go to file -> make a copy in Drive.\n",
        "\n",
        "Useful shortcuts:\n",
        "- Shift + enter: runs a cell\n",
        "\n",
        "Additional Resources:\n",
        "\n",
        "More in depth fine tuning explanation [here](https://civitai.com/articles/4/make-your-own-loras-easy-and-free)"
      ],
      "metadata": {
        "id": "StqF3MkdMx7x"
      }
    },
    {
      "cell_type": "code",
      "source": [
        "!pip install replicate"
      ],
      "metadata": {
        "id": "pdPQvzUKAg1I",
        "outputId": "d11c1572-4c53-44b8-c444-adf7e3d52302",
        "colab": {
          "base_uri": "https://localhost:8080/"
        }
      },
      "execution_count": 1,
      "outputs": [
        {
          "output_type": "stream",
          "name": "stdout",
          "text": [
            "Collecting replicate\n",
            "  Downloading replicate-1.0.4-py3-none-any.whl.metadata (29 kB)\n",
            "Requirement already satisfied: httpx<1,>=0.21.0 in /usr/local/lib/python3.10/dist-packages (from replicate) (0.28.1)\n",
            "Requirement already satisfied: packaging in /usr/local/lib/python3.10/dist-packages (from replicate) (24.2)\n",
            "Requirement already satisfied: pydantic>1.10.7 in /usr/local/lib/python3.10/dist-packages (from replicate) (2.10.3)\n",
            "Requirement already satisfied: typing_extensions>=4.5.0 in /usr/local/lib/python3.10/dist-packages (from replicate) (4.12.2)\n",
            "Requirement already satisfied: anyio in /usr/local/lib/python3.10/dist-packages (from httpx<1,>=0.21.0->replicate) (3.7.1)\n",
            "Requirement already satisfied: certifi in /usr/local/lib/python3.10/dist-packages (from httpx<1,>=0.21.0->replicate) (2024.12.14)\n",
            "Requirement already satisfied: httpcore==1.* in /usr/local/lib/python3.10/dist-packages (from httpx<1,>=0.21.0->replicate) (1.0.7)\n",
            "Requirement already satisfied: idna in /usr/local/lib/python3.10/dist-packages (from httpx<1,>=0.21.0->replicate) (3.10)\n",
            "Requirement already satisfied: h11<0.15,>=0.13 in /usr/local/lib/python3.10/dist-packages (from httpcore==1.*->httpx<1,>=0.21.0->replicate) (0.14.0)\n",
            "Requirement already satisfied: annotated-types>=0.6.0 in /usr/local/lib/python3.10/dist-packages (from pydantic>1.10.7->replicate) (0.7.0)\n",
            "Requirement already satisfied: pydantic-core==2.27.1 in /usr/local/lib/python3.10/dist-packages (from pydantic>1.10.7->replicate) (2.27.1)\n",
            "Requirement already satisfied: sniffio>=1.1 in /usr/local/lib/python3.10/dist-packages (from anyio->httpx<1,>=0.21.0->replicate) (1.3.1)\n",
            "Requirement already satisfied: exceptiongroup in /usr/local/lib/python3.10/dist-packages (from anyio->httpx<1,>=0.21.0->replicate) (1.2.2)\n",
            "Downloading replicate-1.0.4-py3-none-any.whl (48 kB)\n",
            "\u001b[?25l   \u001b[90m━━━━━━━━━━━━━━━━━━━━━━━━━━━━━━━━━━━━━━━━\u001b[0m \u001b[32m0.0/48.0 kB\u001b[0m \u001b[31m?\u001b[0m eta \u001b[36m-:--:--\u001b[0m\r\u001b[2K   \u001b[90m━━━━━━━━━━━━━━━━━━━━━━━━━━━━━━━━━━━━━━━━\u001b[0m \u001b[32m48.0/48.0 kB\u001b[0m \u001b[31m3.8 MB/s\u001b[0m eta \u001b[36m0:00:00\u001b[0m\n",
            "\u001b[?25hInstalling collected packages: replicate\n",
            "Successfully installed replicate-1.0.4\n"
          ]
        }
      ]
    },
    {
      "cell_type": "markdown",
      "source": [
        "Test Run"
      ],
      "metadata": {
        "id": "oanPSyr530oi"
      }
    },
    {
      "cell_type": "markdown",
      "source": [
        "# Finetuning a text to image model\n",
        "\n",
        "The first and most important thing to care about when training a custom image generation model, is the data. If you have a bad dataset that you are trianing on, it does not matter what model or how much compute you throw at the problem, your output model will still not perform the way that you want it to.\n",
        "\n",
        "For image generation, we dont actually need a lot of data to add a new concept or style to the model, as little as 5 images will do, although more is always better, usually datasets are between 20-1000 miages. When selecting images here's what you need to keep in mind:\n",
        "\n",
        "- Avoid low quality images, i.e. blurry or low (<256 px) resolution\n",
        "- Avoid images with weird aspect ratios (anything more than 2:1, ie 1024x512px)\n",
        "- Dont worry about getting 4k or super high resolution images, they will be downscaled to ~1024px per side when training\n",
        "\n",
        "When training a model, you will typically either be training the model to understand a person, or new style. Because of this, you will usually include a trigger word that lets the model know you are trying to evoke that concept. That way the model will keep its previous understanding of concepts while also having a new one added to it. Because we dont want to overwrite existing concepts, the trigger word will be a specific person's name, or a \"custom\" word, i.e. \"Andrew Mead\" or \"tr1gg3r w0rd\"."
      ],
      "metadata": {
        "id": "W6R7hAOH0ZlG"
      }
    },
    {
      "cell_type": "code",
      "execution_count": 5,
      "metadata": {
        "id": "jf0Pnm7hELFB"
      },
      "outputs": [],
      "source": [
        "#@title Setup Replicate\n",
        "\n",
        "#@markdown To get your Replicate API key, go to [Replicate](https://replicate.com/signin?next=/docs) and register. You then find your api key on the [API tokens page](https://replicate.com/account/api-tokens), which you can then paste here.\n",
        "\n",
        "import os\n",
        "import replicate\n",
        "from IPython.display import Image\n",
        "\n",
        "# YOUR REPLICATE API KEY\n",
        "replicate_api_key = \"\" #@param {type: 'string'}\n",
        "\n",
        "os.environ[\"REPLICATE_API_TOKEN\"] = replicate_api_key"
      ]
    },
    {
      "cell_type": "markdown",
      "source": [
        "Test Run"
      ],
      "metadata": {
        "id": "-fZ2MKZJ35e8"
      }
    },
    {
      "cell_type": "code",
      "source": [
        "output = replicate.run(\n",
        "    \"stability-ai/sdxl:7762fd07cf82c948538e41f63f77d685e02b063e37e496e96eefd46c929f9bdc\",\n",
        "    input={\n",
        "        \"width\": 768,\n",
        "        \"height\": 768,\n",
        "        \"prompt\": \"Asian Indian Basketball player 13 year old playing basketball with multiple actions\",\n",
        "        \"refine\": \"expert_ensemble_refiner\",\n",
        "        \"scheduler\": \"K_EULER\",\n",
        "        \"lora_scale\": 0.6,\n",
        "        \"num_outputs\": 1,\n",
        "        \"guidance_scale\": 7.5,\n",
        "        \"apply_watermark\": False,\n",
        "        \"high_noise_frac\": 0.8,\n",
        "        \"negative_prompt\": \"\",\n",
        "        \"prompt_strength\": 0.8,\n",
        "        \"num_inference_steps\": 25\n",
        "    }\n",
        ")\n",
        "\n",
        "print(output)"
      ],
      "metadata": {
        "id": "ES1DGHT_36xF",
        "outputId": "d0315c72-4d65-4c6d-9845-21ed85a242f6",
        "colab": {
          "base_uri": "https://localhost:8080/"
        }
      },
      "execution_count": 13,
      "outputs": [
        {
          "output_type": "stream",
          "name": "stdout",
          "text": [
            "[<replicate.helpers.FileOutput object at 0x7f703024cb20>]\n"
          ]
        }
      ]
    },
    {
      "cell_type": "code",
      "source": [
        "image_url = output[0].url\n",
        "\n",
        "display(Image(url=image_url))"
      ],
      "metadata": {
        "colab": {
          "base_uri": "https://localhost:8080/",
          "height": 789
        },
        "id": "cQCqsUnK7ACi",
        "outputId": "9e9f7e89-1983-4dc8-eed8-61a9bca3b6d2"
      },
      "execution_count": 14,
      "outputs": [
        {
          "output_type": "display_data",
          "data": {
            "text/html": [
              "<img src=\"https://replicate.delivery/xezq/flFKa7RXafqSd0CCsZ7OerVjtA9vFk956rdW4mWHcZenBkIQB/out-0.png\"/>"
            ],
            "text/plain": [
              "<IPython.core.display.Image object>"
            ]
          },
          "metadata": {}
        }
      ]
    },
    {
      "cell_type": "code",
      "source": [
        "#@title Create the model repository\n",
        "\n",
        "#@markdown Here we are setting up the repository in replicate where the model will go once we have trained it\n",
        "\n",
        "import replicate\n",
        "from replicate.exceptions import ReplicateError\n",
        "\n",
        "#@markdown You can see your username on replicate in the top left corner.\n",
        "replicate_username = \"sundai-club\" #@param {type: 'string'}\n",
        "#@markdown Name of your fintuned model\n",
        "finetuned_mode_name = \"kanch-sundai\" #@param {type: 'string'}\n",
        "\n",
        "try:\n",
        "  model = replicate.models.create(\n",
        "      owner=replicate_username,\n",
        "      name=finetuned_mode_name,\n",
        "      visibility=\"public\",  # or \"private\" if you prefer\n",
        "      hardware=\"gpu-t4\",  # Replicate will override this for fine-tuned models\n",
        "      description=\"A fine-tuned sdxl model\"\n",
        "  )\n",
        "  print(f\"Model created: {model.name}\")\n",
        "except ReplicateError as e:\n",
        "  if \"already exists\" in e.detail:\n",
        "    print(\"Model already exists, loading it.\")\n",
        "    model = replicate.models.get(f\"{replicate_username}/{finetuned_mode_name}\")\n",
        "  else:\n",
        "    raise e\n",
        "\n",
        "print(f\"Model URL: https://replicate.com/{model.owner}/{model.name}\")"
      ],
      "metadata": {
        "id": "3LukzVaWPRFy",
        "colab": {
          "base_uri": "https://localhost:8080/"
        },
        "outputId": "6044e66f-8cd1-47ef-8118-af349cf6ade4"
      },
      "execution_count": 16,
      "outputs": [
        {
          "output_type": "stream",
          "name": "stdout",
          "text": [
            "Model created: kanch-sundai\n",
            "Model URL: https://replicate.com/sundai-club/kanch-sundai\n"
          ]
        }
      ]
    },
    {
      "cell_type": "code",
      "source": [
        "import base64\n",
        "\n",
        "filename = \"/tanay.zip\"\n",
        "with open(f\"{filename}\", \"rb\") as file_input:\n",
        "        encoded_data = base64.b64encode(file_input.read())\n",
        "\n",
        "\n",
        "encoded_data_str = encoded_data.decode('utf-8')"
      ],
      "metadata": {
        "id": "mF6M9NnkGfco"
      },
      "execution_count": 101,
      "outputs": []
    },
    {
      "cell_type": "code",
      "source": [
        "#@title Train the model\n",
        "\n",
        "#@markdown The dataset needs to be a zip folder, with\n",
        "#dataset_url = \"https://drive.google.com/file/d/1inrIw_ObaIE6laOifwwxyme-Y5uVtniW/view?usp=drive_link\" #@param {type: 'string'}\n",
        "trigger_word = \"tanay\" #@param {type: 'string'}\n",
        "steps = 1000 #@param {type: 'number'}\n",
        "\n",
        "training = replicate.trainings.create(\n",
        "    version=\"stability-ai/sdxl:7762fd07cf82c948538e41f63f77d685e02b063e37e496e96eefd46c929f9bdc\",\n",
        "    input={\n",
        "        \"input_images\": f\"data:application/zip;base64,{encoded_data_str}\",\n",
        "        \"steps\": steps,\n",
        "        \"use_face_detection_instead\": True,\n",
        "        \"token_string\": trigger_word,\n",
        "        \"is_lora\": \"true\"\n",
        "    },\n",
        "    destination=f\"{model.owner}/{model.name}\",\n",
        ")\n",
        "\n",
        "print(f\"Training started: {training.status}\")\n",
        "print(f\"Training URL: https://replicate.com/p/{training.id}\")"
      ],
      "metadata": {
        "id": "ZwloUZKKPSKK",
        "colab": {
          "base_uri": "https://localhost:8080/"
        },
        "outputId": "e9aa2c85-0631-4f4f-8e61-10493bbc9fed"
      },
      "execution_count": 102,
      "outputs": [
        {
          "output_type": "stream",
          "name": "stdout",
          "text": [
            "Training started: starting\n",
            "Training URL: https://replicate.com/p/fa0kjbbkt9rm80cm71pa3sdsww\n"
          ]
        }
      ]
    },
    {
      "cell_type": "code",
      "source": [
        "print(model.versions.list()[0].id)"
      ],
      "metadata": {
        "colab": {
          "base_uri": "https://localhost:8080/"
        },
        "id": "8ml56nkVVvgn",
        "outputId": "02fd73eb-0399-4c61-a534-b07881267cde"
      },
      "execution_count": 108,
      "outputs": [
        {
          "output_type": "stream",
          "name": "stdout",
          "text": [
            "ab48229064407355e46d0b84d2a1ea58c5c62c25b9fa6ae4d75a0ff7da864754\n"
          ]
        }
      ]
    },
    {
      "cell_type": "code",
      "source": [
        "gen_model = f\"sundai-club/kanch-sundai:{model.versions.list()[0].id}\"\n",
        "output = replicate.run(\n",
        "    gen_model,\n",
        "    input={\n",
        "        \"width\": 768,\n",
        "        \"height\": 768,\n",
        "        \"prompt\": \"13 year old indian asian kid playing basketball\",\n",
        "        \"refine\": \"expert_ensemble_refiner\",\n",
        "        \"scheduler\": \"K_EULER\",\n",
        "        \"lora_scale\": 0.6,\n",
        "        \"num_outputs\": 1,\n",
        "        \"guidance_scale\": 7.5,\n",
        "        \"apply_watermark\": False,\n",
        "        \"high_noise_frac\": 0.8,\n",
        "        \"negative_prompt\": \"\",\n",
        "        \"prompt_strength\": 0.8,\n",
        "        \"num_inference_steps\": 25\n",
        "    }\n",
        ")\n",
        "\n",
        "print(output)\n",
        "image_url = output[0].url\n",
        "display(Image(url=image_url))"
      ],
      "metadata": {
        "id": "dw8XLZCIx8MO",
        "colab": {
          "base_uri": "https://localhost:8080/",
          "height": 807
        },
        "outputId": "ced85cf0-5c2c-47fa-cb13-d46c4025c8b6"
      },
      "execution_count": 109,
      "outputs": [
        {
          "output_type": "stream",
          "name": "stdout",
          "text": [
            "[<replicate.helpers.FileOutput object at 0x7f6ff14e5600>]\n"
          ]
        },
        {
          "output_type": "display_data",
          "data": {
            "text/html": [
              "<img src=\"https://replicate.delivery/xezq/HWfiLnkV7byobKT9KGSqETiGC015uvJJJJnP5VO9Hhjj6FBKA/out-0.png\"/>"
            ],
            "text/plain": [
              "<IPython.core.display.Image object>"
            ]
          },
          "metadata": {}
        }
      ]
    },
    {
      "cell_type": "code",
      "source": [],
      "metadata": {
        "id": "vp_7uTZujBXc"
      },
      "execution_count": null,
      "outputs": []
    }
  ]
}